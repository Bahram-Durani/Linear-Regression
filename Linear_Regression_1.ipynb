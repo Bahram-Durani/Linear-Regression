{
 "cells": [
  {
   "cell_type": "markdown",
   "id": "9b725007",
   "metadata": {},
   "source": [
    "<h2 style =\"color: black; background-color:yellow; font-family:Comic Sans MS;\" align = \"center\"> Linear Regression Single Variable </h2>"
   ]
  },
  {
   "cell_type": "code",
   "execution_count": 9,
   "id": "1c10ed33",
   "metadata": {},
   "outputs": [],
   "source": [
    "import pandas as pd\n",
    "import numpy as np\n",
    "import matplotlib.pyplot as plt\n",
    "from sklearn import linear_model"
   ]
  },
  {
   "cell_type": "code",
   "execution_count": 3,
   "id": "657cb916",
   "metadata": {},
   "outputs": [],
   "source": [
    "df = pd.DataFrame({ 'area' : [2600, 3000, 3200, 3600, 4000],\n",
    "                    'price' : [550000, 565000, 610000, 680000, 725000]\n",
    "                  \n",
    "                  })"
   ]
  },
  {
   "cell_type": "code",
   "execution_count": 4,
   "id": "6c4a0480",
   "metadata": {},
   "outputs": [
    {
     "data": {
      "text/html": [
       "<div>\n",
       "<style scoped>\n",
       "    .dataframe tbody tr th:only-of-type {\n",
       "        vertical-align: middle;\n",
       "    }\n",
       "\n",
       "    .dataframe tbody tr th {\n",
       "        vertical-align: top;\n",
       "    }\n",
       "\n",
       "    .dataframe thead th {\n",
       "        text-align: right;\n",
       "    }\n",
       "</style>\n",
       "<table border=\"1\" class=\"dataframe\">\n",
       "  <thead>\n",
       "    <tr style=\"text-align: right;\">\n",
       "      <th></th>\n",
       "      <th>area</th>\n",
       "      <th>price</th>\n",
       "    </tr>\n",
       "  </thead>\n",
       "  <tbody>\n",
       "    <tr>\n",
       "      <th>0</th>\n",
       "      <td>2600</td>\n",
       "      <td>550000</td>\n",
       "    </tr>\n",
       "    <tr>\n",
       "      <th>1</th>\n",
       "      <td>3000</td>\n",
       "      <td>565000</td>\n",
       "    </tr>\n",
       "    <tr>\n",
       "      <th>2</th>\n",
       "      <td>3200</td>\n",
       "      <td>610000</td>\n",
       "    </tr>\n",
       "    <tr>\n",
       "      <th>3</th>\n",
       "      <td>3600</td>\n",
       "      <td>680000</td>\n",
       "    </tr>\n",
       "    <tr>\n",
       "      <th>4</th>\n",
       "      <td>4000</td>\n",
       "      <td>725000</td>\n",
       "    </tr>\n",
       "  </tbody>\n",
       "</table>\n",
       "</div>"
      ],
      "text/plain": [
       "   area   price\n",
       "0  2600  550000\n",
       "1  3000  565000\n",
       "2  3200  610000\n",
       "3  3600  680000\n",
       "4  4000  725000"
      ]
     },
     "execution_count": 4,
     "metadata": {},
     "output_type": "execute_result"
    }
   ],
   "source": [
    "df"
   ]
  },
  {
   "cell_type": "code",
   "execution_count": 8,
   "id": "785b4a96",
   "metadata": {},
   "outputs": [
    {
     "data": {
      "text/plain": [
       "Text(0, 0.5, 'Price(US$)')"
      ]
     },
     "execution_count": 8,
     "metadata": {},
     "output_type": "execute_result"
    },
    {
     "data": {
      "image/png": "[encoded data removed]",
      "text/plain": [
       "<Figure size 432x288 with 1 Axes>"
      ]
     },
     "metadata": {
      "needs_background": "light"
     },
     "output_type": "display_data"
    }
   ],
   "source": [
    "%matplotlib inline\n",
    "plt.scatter(df.area, df.price, marker= '+', color = 'r')\n",
    "\n",
    "plt.xlabel('Area(sqr ft)', size = 20)\n",
    "plt.ylabel('Price(US$)', size = 20)"
   ]
  },
  {
   "cell_type": "code",
   "execution_count": 10,
   "id": "814a3258",
   "metadata": {},
   "outputs": [],
   "source": [
    "# Here we first create an object for linear regression\n",
    "\n",
    "reg = linear_model.LinearRegression()"
   ]
  },
  {
   "cell_type": "code",
   "execution_count": 17,
   "id": "744e1cfc",
   "metadata": {},
   "outputs": [
    {
     "data": {
      "text/plain": [
       "LinearRegression()"
      ]
     },
     "execution_count": 17,
     "metadata": {},
     "output_type": "execute_result"
    }
   ],
   "source": [
    "# fitting data \n",
    "# Now we fit the data means we are training the linear regression model using the avalibale data points.\n",
    "\n",
    "reg.fit(df[['area']], df.price)"
   ]
  },
  {
   "cell_type": "code",
   "execution_count": 22,
   "id": "f5a86da8",
   "metadata": {},
   "outputs": [
    {
     "data": {
      "text/plain": [
       "array([628715.75342466])"
      ]
     },
     "execution_count": 22,
     "metadata": {},
     "output_type": "execute_result"
    }
   ],
   "source": [
    "# After we fit the data, now the model is able to predict \n",
    "\n",
    "reg.predict([[3300]])"
   ]
  },
  {
   "cell_type": "code",
   "execution_count": 25,
   "id": "0adac5e7",
   "metadata": {},
   "outputs": [
    {
     "data": {
      "text/plain": [
       "array([615136.98630137])"
      ]
     },
     "execution_count": 25,
     "metadata": {},
     "output_type": "execute_result"
    }
   ],
   "source": [
    "reg.predict([[3200]])"
   ]
  },
  {
   "cell_type": "code",
   "execution_count": 27,
   "id": "69f96862",
   "metadata": {},
   "outputs": [
    {
     "name": "stdout",
     "output_type": "stream",
     "text": [
      "[135.78767123]\n",
      "180616.43835616432\n"
     ]
    }
   ],
   "source": [
    "# y = mx+b   , m --> slope, coefficient , b --> intercept\n",
    "\n",
    "print(reg.coef_)\n",
    "print(reg.intercept_)"
   ]
  },
  {
   "cell_type": "code",
   "execution_count": 28,
   "id": "024afb77",
   "metadata": {},
   "outputs": [
    {
     "data": {
      "text/plain": [
       "615136.9862921643"
      ]
     },
     "execution_count": 28,
     "metadata": {},
     "output_type": "execute_result"
    }
   ],
   "source": [
    "# Through this y = mx+b formula our model predict the price based on the given area \n",
    "# area = 3200 \n",
    "\n",
    "y = (135.78767123)*(3200)+ 180616.43835616432\n",
    "y"
   ]
  },
  {
   "cell_type": "code",
   "execution_count": 47,
   "id": "8301d6d3",
   "metadata": {},
   "outputs": [
    {
     "data": {
      "text/plain": [
       "[<matplotlib.lines.Line2D at 0x14ead5b8550>]"
      ]
     },
     "execution_count": 47,
     "metadata": {},
     "output_type": "execute_result"
    },
    {
     "data": {
      "image/png": "[encoded data removed]",
      "text/plain": [
       "<Figure size 432x288 with 1 Axes>"
      ]
     },
     "metadata": {
      "needs_background": "light"
     },
     "output_type": "display_data"
    }
   ],
   "source": [
    "%matplotlib inline\n",
    "\n",
    "plt.xlabel('area', fontsize = 20)\n",
    "plt.ylabel('price', fontsize = 20)\n",
    "\n",
    "plt.scatter(df.area, df.price , color = 'r', marker = '+')\n",
    "plt.plot(df.area, reg.predict(df[['area']]), color = 'blue')"
   ]
  },
  {
   "cell_type": "markdown",
   "id": "1282afa2",
   "metadata": {},
   "source": [
    "<h3 style =\"color: black; background-color:yellow; font-family:Comic Sans MS;\" align = \"center\"> We are gonna create a dataframe that contains a list of area and the model should be able to predict its price. </h3>\n"
   ]
  },
  {
   "cell_type": "code",
   "execution_count": 31,
   "id": "ab40c11f",
   "metadata": {},
   "outputs": [
    {
     "data": {
      "text/html": [
       "<div>\n",
       "<style scoped>\n",
       "    .dataframe tbody tr th:only-of-type {\n",
       "        vertical-align: middle;\n",
       "    }\n",
       "\n",
       "    .dataframe tbody tr th {\n",
       "        vertical-align: top;\n",
       "    }\n",
       "\n",
       "    .dataframe thead th {\n",
       "        text-align: right;\n",
       "    }\n",
       "</style>\n",
       "<table border=\"1\" class=\"dataframe\">\n",
       "  <thead>\n",
       "    <tr style=\"text-align: right;\">\n",
       "      <th></th>\n",
       "      <th>0</th>\n",
       "    </tr>\n",
       "  </thead>\n",
       "  <tbody>\n",
       "    <tr>\n",
       "      <th>0</th>\n",
       "      <td>1000</td>\n",
       "    </tr>\n",
       "    <tr>\n",
       "      <th>1</th>\n",
       "      <td>1500</td>\n",
       "    </tr>\n",
       "    <tr>\n",
       "      <th>2</th>\n",
       "      <td>2300</td>\n",
       "    </tr>\n",
       "    <tr>\n",
       "      <th>3</th>\n",
       "      <td>3540</td>\n",
       "    </tr>\n",
       "    <tr>\n",
       "      <th>4</th>\n",
       "      <td>4120</td>\n",
       "    </tr>\n",
       "    <tr>\n",
       "      <th>5</th>\n",
       "      <td>4560</td>\n",
       "    </tr>\n",
       "    <tr>\n",
       "      <th>6</th>\n",
       "      <td>5490</td>\n",
       "    </tr>\n",
       "    <tr>\n",
       "      <th>7</th>\n",
       "      <td>3460</td>\n",
       "    </tr>\n",
       "    <tr>\n",
       "      <th>8</th>\n",
       "      <td>4750</td>\n",
       "    </tr>\n",
       "    <tr>\n",
       "      <th>9</th>\n",
       "      <td>2300</td>\n",
       "    </tr>\n",
       "    <tr>\n",
       "      <th>10</th>\n",
       "      <td>9000</td>\n",
       "    </tr>\n",
       "    <tr>\n",
       "      <th>11</th>\n",
       "      <td>8600</td>\n",
       "    </tr>\n",
       "    <tr>\n",
       "      <th>12</th>\n",
       "      <td>7100</td>\n",
       "    </tr>\n",
       "  </tbody>\n",
       "</table>\n",
       "</div>"
      ],
      "text/plain": [
       "       0\n",
       "0   1000\n",
       "1   1500\n",
       "2   2300\n",
       "3   3540\n",
       "4   4120\n",
       "5   4560\n",
       "6   5490\n",
       "7   3460\n",
       "8   4750\n",
       "9   2300\n",
       "10  9000\n",
       "11  8600\n",
       "12  7100"
      ]
     },
     "execution_count": 31,
     "metadata": {},
     "output_type": "execute_result"
    }
   ],
   "source": [
    "d = pd.DataFrame([1000, 1500, 2300, 3540, 4120, 4560, 5490, 3460, 4750, 2300, 9000, 8600, 7100])\n",
    "d"
   ]
  },
  {
   "cell_type": "code",
   "execution_count": 32,
   "id": "91e4e0d5",
   "metadata": {},
   "outputs": [
    {
     "data": {
      "text/html": [
       "<div>\n",
       "<style scoped>\n",
       "    .dataframe tbody tr th:only-of-type {\n",
       "        vertical-align: middle;\n",
       "    }\n",
       "\n",
       "    .dataframe tbody tr th {\n",
       "        vertical-align: top;\n",
       "    }\n",
       "\n",
       "    .dataframe thead th {\n",
       "        text-align: right;\n",
       "    }\n",
       "</style>\n",
       "<table border=\"1\" class=\"dataframe\">\n",
       "  <thead>\n",
       "    <tr style=\"text-align: right;\">\n",
       "      <th></th>\n",
       "      <th>area</th>\n",
       "    </tr>\n",
       "  </thead>\n",
       "  <tbody>\n",
       "    <tr>\n",
       "      <th>0</th>\n",
       "      <td>1000</td>\n",
       "    </tr>\n",
       "    <tr>\n",
       "      <th>1</th>\n",
       "      <td>1500</td>\n",
       "    </tr>\n",
       "    <tr>\n",
       "      <th>2</th>\n",
       "      <td>2300</td>\n",
       "    </tr>\n",
       "    <tr>\n",
       "      <th>3</th>\n",
       "      <td>3540</td>\n",
       "    </tr>\n",
       "    <tr>\n",
       "      <th>4</th>\n",
       "      <td>4120</td>\n",
       "    </tr>\n",
       "    <tr>\n",
       "      <th>5</th>\n",
       "      <td>4560</td>\n",
       "    </tr>\n",
       "    <tr>\n",
       "      <th>6</th>\n",
       "      <td>5490</td>\n",
       "    </tr>\n",
       "    <tr>\n",
       "      <th>7</th>\n",
       "      <td>3460</td>\n",
       "    </tr>\n",
       "    <tr>\n",
       "      <th>8</th>\n",
       "      <td>4750</td>\n",
       "    </tr>\n",
       "    <tr>\n",
       "      <th>9</th>\n",
       "      <td>2300</td>\n",
       "    </tr>\n",
       "    <tr>\n",
       "      <th>10</th>\n",
       "      <td>9000</td>\n",
       "    </tr>\n",
       "    <tr>\n",
       "      <th>11</th>\n",
       "      <td>8600</td>\n",
       "    </tr>\n",
       "    <tr>\n",
       "      <th>12</th>\n",
       "      <td>7100</td>\n",
       "    </tr>\n",
       "  </tbody>\n",
       "</table>\n",
       "</div>"
      ],
      "text/plain": [
       "    area\n",
       "0   1000\n",
       "1   1500\n",
       "2   2300\n",
       "3   3540\n",
       "4   4120\n",
       "5   4560\n",
       "6   5490\n",
       "7   3460\n",
       "8   4750\n",
       "9   2300\n",
       "10  9000\n",
       "11  8600\n",
       "12  7100"
      ]
     },
     "execution_count": 32,
     "metadata": {},
     "output_type": "execute_result"
    }
   ],
   "source": [
    "d = pd.DataFrame({'area':[1000, 1500, 2300, 3540, 4120, 4560, 5490, 3460, 4750, 2300, 9000, 8600, 7100] })\n",
    "d"
   ]
  },
  {
   "cell_type": "code",
   "execution_count": 33,
   "id": "12e7cb0f",
   "metadata": {},
   "outputs": [
    {
     "data": {
      "text/plain": [
       "array([ 316404.10958904,  384297.94520548,  492928.08219178,\n",
       "        661304.79452055,  740061.64383562,  799808.21917808,\n",
       "        926090.75342466,  650441.78082192,  825607.87671233,\n",
       "        492928.08219178, 1402705.47945205, 1348390.4109589 ,\n",
       "       1144708.90410959])"
      ]
     },
     "execution_count": 33,
     "metadata": {},
     "output_type": "execute_result"
    }
   ],
   "source": [
    " # Now we predcit many prices based on the given areas\n",
    "    \n",
    "reg.predict(d)"
   ]
  },
  {
   "cell_type": "code",
   "execution_count": 40,
   "id": "ac2fddfc",
   "metadata": {},
   "outputs": [],
   "source": [
    "p = reg.predict(d)"
   ]
  },
  {
   "cell_type": "code",
   "execution_count": 42,
   "id": "401520fd",
   "metadata": {},
   "outputs": [],
   "source": [
    "d['price'] = p"
   ]
  },
  {
   "cell_type": "code",
   "execution_count": 43,
   "id": "c86a0a9e",
   "metadata": {},
   "outputs": [
    {
     "data": {
      "text/html": [
       "<div>\n",
       "<style scoped>\n",
       "    .dataframe tbody tr th:only-of-type {\n",
       "        vertical-align: middle;\n",
       "    }\n",
       "\n",
       "    .dataframe tbody tr th {\n",
       "        vertical-align: top;\n",
       "    }\n",
       "\n",
       "    .dataframe thead th {\n",
       "        text-align: right;\n",
       "    }\n",
       "</style>\n",
       "<table border=\"1\" class=\"dataframe\">\n",
       "  <thead>\n",
       "    <tr style=\"text-align: right;\">\n",
       "      <th></th>\n",
       "      <th>area</th>\n",
       "      <th>price</th>\n",
       "    </tr>\n",
       "  </thead>\n",
       "  <tbody>\n",
       "    <tr>\n",
       "      <th>0</th>\n",
       "      <td>1000</td>\n",
       "      <td>3.164041e+05</td>\n",
       "    </tr>\n",
       "    <tr>\n",
       "      <th>1</th>\n",
       "      <td>1500</td>\n",
       "      <td>3.842979e+05</td>\n",
       "    </tr>\n",
       "    <tr>\n",
       "      <th>2</th>\n",
       "      <td>2300</td>\n",
       "      <td>4.929281e+05</td>\n",
       "    </tr>\n",
       "    <tr>\n",
       "      <th>3</th>\n",
       "      <td>3540</td>\n",
       "      <td>6.613048e+05</td>\n",
       "    </tr>\n",
       "    <tr>\n",
       "      <th>4</th>\n",
       "      <td>4120</td>\n",
       "      <td>7.400616e+05</td>\n",
       "    </tr>\n",
       "    <tr>\n",
       "      <th>5</th>\n",
       "      <td>4560</td>\n",
       "      <td>7.998082e+05</td>\n",
       "    </tr>\n",
       "    <tr>\n",
       "      <th>6</th>\n",
       "      <td>5490</td>\n",
       "      <td>9.260908e+05</td>\n",
       "    </tr>\n",
       "    <tr>\n",
       "      <th>7</th>\n",
       "      <td>3460</td>\n",
       "      <td>6.504418e+05</td>\n",
       "    </tr>\n",
       "    <tr>\n",
       "      <th>8</th>\n",
       "      <td>4750</td>\n",
       "      <td>8.256079e+05</td>\n",
       "    </tr>\n",
       "    <tr>\n",
       "      <th>9</th>\n",
       "      <td>2300</td>\n",
       "      <td>4.929281e+05</td>\n",
       "    </tr>\n",
       "    <tr>\n",
       "      <th>10</th>\n",
       "      <td>9000</td>\n",
       "      <td>1.402705e+06</td>\n",
       "    </tr>\n",
       "    <tr>\n",
       "      <th>11</th>\n",
       "      <td>8600</td>\n",
       "      <td>1.348390e+06</td>\n",
       "    </tr>\n",
       "    <tr>\n",
       "      <th>12</th>\n",
       "      <td>7100</td>\n",
       "      <td>1.144709e+06</td>\n",
       "    </tr>\n",
       "  </tbody>\n",
       "</table>\n",
       "</div>"
      ],
      "text/plain": [
       "    area         price\n",
       "0   1000  3.164041e+05\n",
       "1   1500  3.842979e+05\n",
       "2   2300  4.929281e+05\n",
       "3   3540  6.613048e+05\n",
       "4   4120  7.400616e+05\n",
       "5   4560  7.998082e+05\n",
       "6   5490  9.260908e+05\n",
       "7   3460  6.504418e+05\n",
       "8   4750  8.256079e+05\n",
       "9   2300  4.929281e+05\n",
       "10  9000  1.402705e+06\n",
       "11  8600  1.348390e+06\n",
       "12  7100  1.144709e+06"
      ]
     },
     "execution_count": 43,
     "metadata": {},
     "output_type": "execute_result"
    }
   ],
   "source": [
    "d"
   ]
  },
  {
   "cell_type": "code",
   "execution_count": 44,
   "id": "9c10234d",
   "metadata": {},
   "outputs": [],
   "source": [
    "d.to_csv('predicted_price.csv')"
   ]
  },
  {
   "cell_type": "code",
   "execution_count": 45,
   "id": "74d5bcdb",
   "metadata": {},
   "outputs": [],
   "source": [
    "# Before the csv file contained the indexes but if we don't want to see indexes then ...\n",
    "\n",
    "d.to_csv('predicted2_price.csv', index = False)"
   ]
  },
  {
   "cell_type": "markdown",
   "id": "bcc4cda6",
   "metadata": {},
   "source": [
    "<h2 style =\"color: black; background-color:yellow; font-family:Comic Sans MS;\" align = \"center\"> Predicting Canada Per Capita Income Price </h2>"
   ]
  },
  {
   "cell_type": "code",
   "execution_count": 5,
   "id": "be507cf4",
   "metadata": {},
   "outputs": [],
   "source": [
    "import pandas as pd\n",
    "df = pd.read_csv(\"canada_per_capita_income.csv\")"
   ]
  },
  {
   "cell_type": "code",
   "execution_count": 6,
   "id": "ecdf3448",
   "metadata": {},
   "outputs": [
    {
     "data": {
      "text/html": [
       "<div>\n",
       "<style scoped>\n",
       "    .dataframe tbody tr th:only-of-type {\n",
       "        vertical-align: middle;\n",
       "    }\n",
       "\n",
       "    .dataframe tbody tr th {\n",
       "        vertical-align: top;\n",
       "    }\n",
       "\n",
       "    .dataframe thead th {\n",
       "        text-align: right;\n",
       "    }\n",
       "</style>\n",
       "<table border=\"1\" class=\"dataframe\">\n",
       "  <thead>\n",
       "    <tr style=\"text-align: right;\">\n",
       "      <th></th>\n",
       "      <th>year</th>\n",
       "      <th>per capita income (US$)</th>\n",
       "    </tr>\n",
       "  </thead>\n",
       "  <tbody>\n",
       "    <tr>\n",
       "      <th>0</th>\n",
       "      <td>1970</td>\n",
       "      <td>3399.299037</td>\n",
       "    </tr>\n",
       "    <tr>\n",
       "      <th>1</th>\n",
       "      <td>1971</td>\n",
       "      <td>3768.297935</td>\n",
       "    </tr>\n",
       "    <tr>\n",
       "      <th>2</th>\n",
       "      <td>1972</td>\n",
       "      <td>4251.175484</td>\n",
       "    </tr>\n",
       "    <tr>\n",
       "      <th>3</th>\n",
       "      <td>1973</td>\n",
       "      <td>4804.463248</td>\n",
       "    </tr>\n",
       "    <tr>\n",
       "      <th>4</th>\n",
       "      <td>1974</td>\n",
       "      <td>5576.514583</td>\n",
       "    </tr>\n",
       "    <tr>\n",
       "      <th>5</th>\n",
       "      <td>1975</td>\n",
       "      <td>5998.144346</td>\n",
       "    </tr>\n",
       "    <tr>\n",
       "      <th>6</th>\n",
       "      <td>1976</td>\n",
       "      <td>7062.131392</td>\n",
       "    </tr>\n",
       "    <tr>\n",
       "      <th>7</th>\n",
       "      <td>1977</td>\n",
       "      <td>7100.126170</td>\n",
       "    </tr>\n",
       "    <tr>\n",
       "      <th>8</th>\n",
       "      <td>1978</td>\n",
       "      <td>7247.967035</td>\n",
       "    </tr>\n",
       "    <tr>\n",
       "      <th>9</th>\n",
       "      <td>1979</td>\n",
       "      <td>7602.912681</td>\n",
       "    </tr>\n",
       "    <tr>\n",
       "      <th>10</th>\n",
       "      <td>1980</td>\n",
       "      <td>8355.968120</td>\n",
       "    </tr>\n",
       "    <tr>\n",
       "      <th>11</th>\n",
       "      <td>1981</td>\n",
       "      <td>9434.390652</td>\n",
       "    </tr>\n",
       "    <tr>\n",
       "      <th>12</th>\n",
       "      <td>1982</td>\n",
       "      <td>9619.438377</td>\n",
       "    </tr>\n",
       "    <tr>\n",
       "      <th>13</th>\n",
       "      <td>1983</td>\n",
       "      <td>10416.536590</td>\n",
       "    </tr>\n",
       "    <tr>\n",
       "      <th>14</th>\n",
       "      <td>1984</td>\n",
       "      <td>10790.328720</td>\n",
       "    </tr>\n",
       "    <tr>\n",
       "      <th>15</th>\n",
       "      <td>1985</td>\n",
       "      <td>11018.955850</td>\n",
       "    </tr>\n",
       "    <tr>\n",
       "      <th>16</th>\n",
       "      <td>1986</td>\n",
       "      <td>11482.891530</td>\n",
       "    </tr>\n",
       "    <tr>\n",
       "      <th>17</th>\n",
       "      <td>1987</td>\n",
       "      <td>12974.806620</td>\n",
       "    </tr>\n",
       "    <tr>\n",
       "      <th>18</th>\n",
       "      <td>1988</td>\n",
       "      <td>15080.283450</td>\n",
       "    </tr>\n",
       "    <tr>\n",
       "      <th>19</th>\n",
       "      <td>1989</td>\n",
       "      <td>16426.725480</td>\n",
       "    </tr>\n",
       "    <tr>\n",
       "      <th>20</th>\n",
       "      <td>1990</td>\n",
       "      <td>16838.673200</td>\n",
       "    </tr>\n",
       "    <tr>\n",
       "      <th>21</th>\n",
       "      <td>1991</td>\n",
       "      <td>17266.097690</td>\n",
       "    </tr>\n",
       "    <tr>\n",
       "      <th>22</th>\n",
       "      <td>1992</td>\n",
       "      <td>16412.083090</td>\n",
       "    </tr>\n",
       "    <tr>\n",
       "      <th>23</th>\n",
       "      <td>1993</td>\n",
       "      <td>15875.586730</td>\n",
       "    </tr>\n",
       "    <tr>\n",
       "      <th>24</th>\n",
       "      <td>1994</td>\n",
       "      <td>15755.820270</td>\n",
       "    </tr>\n",
       "    <tr>\n",
       "      <th>25</th>\n",
       "      <td>1995</td>\n",
       "      <td>16369.317250</td>\n",
       "    </tr>\n",
       "    <tr>\n",
       "      <th>26</th>\n",
       "      <td>1996</td>\n",
       "      <td>16699.826680</td>\n",
       "    </tr>\n",
       "    <tr>\n",
       "      <th>27</th>\n",
       "      <td>1997</td>\n",
       "      <td>17310.757750</td>\n",
       "    </tr>\n",
       "    <tr>\n",
       "      <th>28</th>\n",
       "      <td>1998</td>\n",
       "      <td>16622.671870</td>\n",
       "    </tr>\n",
       "    <tr>\n",
       "      <th>29</th>\n",
       "      <td>1999</td>\n",
       "      <td>17581.024140</td>\n",
       "    </tr>\n",
       "    <tr>\n",
       "      <th>30</th>\n",
       "      <td>2000</td>\n",
       "      <td>18987.382410</td>\n",
       "    </tr>\n",
       "    <tr>\n",
       "      <th>31</th>\n",
       "      <td>2001</td>\n",
       "      <td>18601.397240</td>\n",
       "    </tr>\n",
       "    <tr>\n",
       "      <th>32</th>\n",
       "      <td>2002</td>\n",
       "      <td>19232.175560</td>\n",
       "    </tr>\n",
       "    <tr>\n",
       "      <th>33</th>\n",
       "      <td>2003</td>\n",
       "      <td>22739.426280</td>\n",
       "    </tr>\n",
       "    <tr>\n",
       "      <th>34</th>\n",
       "      <td>2004</td>\n",
       "      <td>25719.147150</td>\n",
       "    </tr>\n",
       "    <tr>\n",
       "      <th>35</th>\n",
       "      <td>2005</td>\n",
       "      <td>29198.055690</td>\n",
       "    </tr>\n",
       "    <tr>\n",
       "      <th>36</th>\n",
       "      <td>2006</td>\n",
       "      <td>32738.262900</td>\n",
       "    </tr>\n",
       "    <tr>\n",
       "      <th>37</th>\n",
       "      <td>2007</td>\n",
       "      <td>36144.481220</td>\n",
       "    </tr>\n",
       "    <tr>\n",
       "      <th>38</th>\n",
       "      <td>2008</td>\n",
       "      <td>37446.486090</td>\n",
       "    </tr>\n",
       "    <tr>\n",
       "      <th>39</th>\n",
       "      <td>2009</td>\n",
       "      <td>32755.176820</td>\n",
       "    </tr>\n",
       "    <tr>\n",
       "      <th>40</th>\n",
       "      <td>2010</td>\n",
       "      <td>38420.522890</td>\n",
       "    </tr>\n",
       "    <tr>\n",
       "      <th>41</th>\n",
       "      <td>2011</td>\n",
       "      <td>42334.711210</td>\n",
       "    </tr>\n",
       "    <tr>\n",
       "      <th>42</th>\n",
       "      <td>2012</td>\n",
       "      <td>42665.255970</td>\n",
       "    </tr>\n",
       "    <tr>\n",
       "      <th>43</th>\n",
       "      <td>2013</td>\n",
       "      <td>42676.468370</td>\n",
       "    </tr>\n",
       "    <tr>\n",
       "      <th>44</th>\n",
       "      <td>2014</td>\n",
       "      <td>41039.893600</td>\n",
       "    </tr>\n",
       "    <tr>\n",
       "      <th>45</th>\n",
       "      <td>2015</td>\n",
       "      <td>35175.188980</td>\n",
       "    </tr>\n",
       "    <tr>\n",
       "      <th>46</th>\n",
       "      <td>2016</td>\n",
       "      <td>34229.193630</td>\n",
       "    </tr>\n",
       "  </tbody>\n",
       "</table>\n",
       "</div>"
      ],
      "text/plain": [
       "    year  per capita income (US$)\n",
       "0   1970              3399.299037\n",
       "1   1971              3768.297935\n",
       "2   1972              4251.175484\n",
       "3   1973              4804.463248\n",
       "4   1974              5576.514583\n",
       "5   1975              5998.144346\n",
       "6   1976              7062.131392\n",
       "7   1977              7100.126170\n",
       "8   1978              7247.967035\n",
       "9   1979              7602.912681\n",
       "10  1980              8355.968120\n",
       "11  1981              9434.390652\n",
       "12  1982              9619.438377\n",
       "13  1983             10416.536590\n",
       "14  1984             10790.328720\n",
       "15  1985             11018.955850\n",
       "16  1986             11482.891530\n",
       "17  1987             12974.806620\n",
       "18  1988             15080.283450\n",
       "19  1989             16426.725480\n",
       "20  1990             16838.673200\n",
       "21  1991             17266.097690\n",
       "22  1992             16412.083090\n",
       "23  1993             15875.586730\n",
       "24  1994             15755.820270\n",
       "25  1995             16369.317250\n",
       "26  1996             16699.826680\n",
       "27  1997             17310.757750\n",
       "28  1998             16622.671870\n",
       "29  1999             17581.024140\n",
       "30  2000             18987.382410\n",
       "31  2001             18601.397240\n",
       "32  2002             19232.175560\n",
       "33  2003             22739.426280\n",
       "34  2004             25719.147150\n",
       "35  2005             29198.055690\n",
       "36  2006             32738.262900\n",
       "37  2007             36144.481220\n",
       "38  2008             37446.486090\n",
       "39  2009             32755.176820\n",
       "40  2010             38420.522890\n",
       "41  2011             42334.711210\n",
       "42  2012             42665.255970\n",
       "43  2013             42676.468370\n",
       "44  2014             41039.893600\n",
       "45  2015             35175.188980\n",
       "46  2016             34229.193630"
      ]
     },
     "execution_count": 6,
     "metadata": {},
     "output_type": "execute_result"
    }
   ],
   "source": [
    "df"
   ]
  },
  {
   "cell_type": "code",
   "execution_count": 11,
   "id": "d27544bb",
   "metadata": {},
   "outputs": [
    {
     "data": {
      "text/plain": [
       "Text(0, 0.5, 'Per_Capita_Income (US$)')"
      ]
     },
     "execution_count": 11,
     "metadata": {},
     "output_type": "execute_result"
    },
    {
     "data": {
      "image/png": "[encoded data removed]",
      "text/plain": [
       "<Figure size 432x288 with 1 Axes>"
      ]
     },
     "metadata": {
      "needs_background": "light"
     },
     "output_type": "display_data"
    }
   ],
   "source": [
    "plt.scatter(df.year, df['per capita income (US$)'])\n",
    "\n",
    "plt.xlabel('Year', size = 15)\n",
    "plt.ylabel('Per_Capita_Income (US$)' , size = 15)"
   ]
  },
  {
   "cell_type": "code",
   "execution_count": 12,
   "id": "688a314b",
   "metadata": {},
   "outputs": [],
   "source": [
    "reg = linear_model.LinearRegression()"
   ]
  },
  {
   "cell_type": "code",
   "execution_count": 13,
   "id": "7a941cb2",
   "metadata": {},
   "outputs": [
    {
     "data": {
      "text/plain": [
       "LinearRegression()"
      ]
     },
     "execution_count": 13,
     "metadata": {},
     "output_type": "execute_result"
    }
   ],
   "source": [
    "reg.fit(df[['year']], df[['per capita income (US$)']])"
   ]
  },
  {
   "cell_type": "code",
   "execution_count": 15,
   "id": "b2120c8d",
   "metadata": {},
   "outputs": [
    {
     "data": {
      "text/plain": [
       "array([[40460.22901919]])"
      ]
     },
     "execution_count": 15,
     "metadata": {},
     "output_type": "execute_result"
    }
   ],
   "source": [
    "reg.predict([[2019]])"
   ]
  },
  {
   "cell_type": "code",
   "execution_count": 16,
   "id": "7fa68106",
   "metadata": {},
   "outputs": [
    {
     "data": {
      "text/plain": [
       "array([[33004.04334219]])"
      ]
     },
     "execution_count": 16,
     "metadata": {},
     "output_type": "execute_result"
    }
   ],
   "source": [
    "reg.predict([[2010]])"
   ]
  },
  {
   "cell_type": "code",
   "execution_count": 17,
   "id": "fd0c8959",
   "metadata": {},
   "outputs": [
    {
     "data": {
      "text/plain": [
       "array([[828.46507522]])"
      ]
     },
     "execution_count": 17,
     "metadata": {},
     "output_type": "execute_result"
    }
   ],
   "source": [
    "reg.coef_"
   ]
  },
  {
   "cell_type": "code",
   "execution_count": 18,
   "id": "819dbc10",
   "metadata": {},
   "outputs": [
    {
     "data": {
      "text/plain": [
       "array([-1632210.75785546])"
      ]
     },
     "execution_count": 18,
     "metadata": {},
     "output_type": "execute_result"
    }
   ],
   "source": [
    "reg.intercept_"
   ]
  },
  {
   "cell_type": "code",
   "execution_count": 26,
   "id": "d03b96c8",
   "metadata": {},
   "outputs": [
    {
     "data": {
      "text/plain": [
       "[<matplotlib.lines.Line2D at 0x1a9d382da60>]"
      ]
     },
     "execution_count": 26,
     "metadata": {},
     "output_type": "execute_result"
    },
    {
     "data": {
      "image/png": "[encoded data removed]",
      "text/plain": [
       "<Figure size 1080x648 with 1 Axes>"
      ]
     },
     "metadata": {
      "needs_background": "light"
     },
     "output_type": "display_data"
    }
   ],
   "source": [
    "plt.figure(figsize = (15, 9))\n",
    "\n",
    "plt.scatter(df.year, df['per capita income (US$)'])\n",
    "plt.plot(df.year, reg.predict(df[['year']]))"
   ]
  },
  {
   "cell_type": "code",
   "execution_count": 27,
   "id": "ec8f5abd",
   "metadata": {},
   "outputs": [],
   "source": [
    "df2 = pd.DataFrame({ 'year' : [1919, 1920, 1980, 2004, 2009, 2022, 2024, 2026, 2030, 2040, 2050] })"
   ]
  },
  {
   "cell_type": "code",
   "execution_count": 28,
   "id": "6988ec94",
   "metadata": {},
   "outputs": [
    {
     "data": {
      "text/html": [
       "<div>\n",
       "<style scoped>\n",
       "    .dataframe tbody tr th:only-of-type {\n",
       "        vertical-align: middle;\n",
       "    }\n",
       "\n",
       "    .dataframe tbody tr th {\n",
       "        vertical-align: top;\n",
       "    }\n",
       "\n",
       "    .dataframe thead th {\n",
       "        text-align: right;\n",
       "    }\n",
       "</style>\n",
       "<table border=\"1\" class=\"dataframe\">\n",
       "  <thead>\n",
       "    <tr style=\"text-align: right;\">\n",
       "      <th></th>\n",
       "      <th>year</th>\n",
       "    </tr>\n",
       "  </thead>\n",
       "  <tbody>\n",
       "    <tr>\n",
       "      <th>0</th>\n",
       "      <td>1919</td>\n",
       "    </tr>\n",
       "    <tr>\n",
       "      <th>1</th>\n",
       "      <td>1920</td>\n",
       "    </tr>\n",
       "    <tr>\n",
       "      <th>2</th>\n",
       "      <td>1980</td>\n",
       "    </tr>\n",
       "    <tr>\n",
       "      <th>3</th>\n",
       "      <td>2004</td>\n",
       "    </tr>\n",
       "    <tr>\n",
       "      <th>4</th>\n",
       "      <td>2009</td>\n",
       "    </tr>\n",
       "    <tr>\n",
       "      <th>5</th>\n",
       "      <td>2022</td>\n",
       "    </tr>\n",
       "    <tr>\n",
       "      <th>6</th>\n",
       "      <td>2024</td>\n",
       "    </tr>\n",
       "    <tr>\n",
       "      <th>7</th>\n",
       "      <td>2026</td>\n",
       "    </tr>\n",
       "    <tr>\n",
       "      <th>8</th>\n",
       "      <td>2030</td>\n",
       "    </tr>\n",
       "    <tr>\n",
       "      <th>9</th>\n",
       "      <td>2040</td>\n",
       "    </tr>\n",
       "    <tr>\n",
       "      <th>10</th>\n",
       "      <td>2050</td>\n",
       "    </tr>\n",
       "  </tbody>\n",
       "</table>\n",
       "</div>"
      ],
      "text/plain": [
       "    year\n",
       "0   1919\n",
       "1   1920\n",
       "2   1980\n",
       "3   2004\n",
       "4   2009\n",
       "5   2022\n",
       "6   2024\n",
       "7   2026\n",
       "8   2030\n",
       "9   2040\n",
       "10  2050"
      ]
     },
     "execution_count": 28,
     "metadata": {},
     "output_type": "execute_result"
    }
   ],
   "source": [
    "df2"
   ]
  },
  {
   "cell_type": "code",
   "execution_count": 29,
   "id": "122c85fb",
   "metadata": {},
   "outputs": [
    {
     "data": {
      "text/plain": [
       "array([[-42386.27850308],\n",
       "       [-41557.81342785],\n",
       "       [  8150.09108551],\n",
       "       [ 28033.25289085],\n",
       "       [ 32175.57826697],\n",
       "       [ 42945.62424486],\n",
       "       [ 44602.55439531],\n",
       "       [ 46259.48454575],\n",
       "       [ 49573.34484664],\n",
       "       [ 57857.99559887],\n",
       "       [ 66142.6463511 ]])"
      ]
     },
     "execution_count": 29,
     "metadata": {},
     "output_type": "execute_result"
    }
   ],
   "source": [
    "reg.predict(df2[['year']])"
   ]
  },
  {
   "cell_type": "code",
   "execution_count": 30,
   "id": "6e5ec864",
   "metadata": {},
   "outputs": [],
   "source": [
    "df2['per_capita_income'] = reg.predict(df2[['year']])"
   ]
  },
  {
   "cell_type": "code",
   "execution_count": 31,
   "id": "9de6a0af",
   "metadata": {},
   "outputs": [
    {
     "data": {
      "text/html": [
       "<div>\n",
       "<style scoped>\n",
       "    .dataframe tbody tr th:only-of-type {\n",
       "        vertical-align: middle;\n",
       "    }\n",
       "\n",
       "    .dataframe tbody tr th {\n",
       "        vertical-align: top;\n",
       "    }\n",
       "\n",
       "    .dataframe thead th {\n",
       "        text-align: right;\n",
       "    }\n",
       "</style>\n",
       "<table border=\"1\" class=\"dataframe\">\n",
       "  <thead>\n",
       "    <tr style=\"text-align: right;\">\n",
       "      <th></th>\n",
       "      <th>year</th>\n",
       "      <th>per_capita_income</th>\n",
       "    </tr>\n",
       "  </thead>\n",
       "  <tbody>\n",
       "    <tr>\n",
       "      <th>0</th>\n",
       "      <td>1919</td>\n",
       "      <td>-42386.278503</td>\n",
       "    </tr>\n",
       "    <tr>\n",
       "      <th>1</th>\n",
       "      <td>1920</td>\n",
       "      <td>-41557.813428</td>\n",
       "    </tr>\n",
       "    <tr>\n",
       "      <th>2</th>\n",
       "      <td>1980</td>\n",
       "      <td>8150.091086</td>\n",
       "    </tr>\n",
       "    <tr>\n",
       "      <th>3</th>\n",
       "      <td>2004</td>\n",
       "      <td>28033.252891</td>\n",
       "    </tr>\n",
       "    <tr>\n",
       "      <th>4</th>\n",
       "      <td>2009</td>\n",
       "      <td>32175.578267</td>\n",
       "    </tr>\n",
       "    <tr>\n",
       "      <th>5</th>\n",
       "      <td>2022</td>\n",
       "      <td>42945.624245</td>\n",
       "    </tr>\n",
       "    <tr>\n",
       "      <th>6</th>\n",
       "      <td>2024</td>\n",
       "      <td>44602.554395</td>\n",
       "    </tr>\n",
       "    <tr>\n",
       "      <th>7</th>\n",
       "      <td>2026</td>\n",
       "      <td>46259.484546</td>\n",
       "    </tr>\n",
       "    <tr>\n",
       "      <th>8</th>\n",
       "      <td>2030</td>\n",
       "      <td>49573.344847</td>\n",
       "    </tr>\n",
       "    <tr>\n",
       "      <th>9</th>\n",
       "      <td>2040</td>\n",
       "      <td>57857.995599</td>\n",
       "    </tr>\n",
       "    <tr>\n",
       "      <th>10</th>\n",
       "      <td>2050</td>\n",
       "      <td>66142.646351</td>\n",
       "    </tr>\n",
       "  </tbody>\n",
       "</table>\n",
       "</div>"
      ],
      "text/plain": [
       "    year  per_capita_income\n",
       "0   1919      -42386.278503\n",
       "1   1920      -41557.813428\n",
       "2   1980        8150.091086\n",
       "3   2004       28033.252891\n",
       "4   2009       32175.578267\n",
       "5   2022       42945.624245\n",
       "6   2024       44602.554395\n",
       "7   2026       46259.484546\n",
       "8   2030       49573.344847\n",
       "9   2040       57857.995599\n",
       "10  2050       66142.646351"
      ]
     },
     "execution_count": 31,
     "metadata": {},
     "output_type": "execute_result"
    }
   ],
   "source": [
    "df2"
   ]
  },
  {
   "cell_type": "code",
   "execution_count": 33,
   "id": "058735ad",
   "metadata": {},
   "outputs": [
    {
     "data": {
      "text/plain": [
       "<matplotlib.collections.PathCollection at 0x1a9d3a93910>"
      ]
     },
     "execution_count": 33,
     "metadata": {},
     "output_type": "execute_result"
    },
    {
     "data": {
      "image/png": "[encoded data removed]",
      "text/plain": [
       "<Figure size 432x288 with 1 Axes>"
      ]
     },
     "metadata": {
      "needs_background": "light"
     },
     "output_type": "display_data"
    }
   ],
   "source": [
    "plt.scatter(df2.year, df2.per_capita_income)"
   ]
  },
  {
   "cell_type": "code",
   "execution_count": null,
   "id": "f3d30b16",
   "metadata": {},
   "outputs": [],
   "source": [
    "df2.to_csv('new_canada_per_cpita_income.csv', index = False)"
   ]
  },
  {
   "cell_type": "markdown",
   "id": "012674b7",
   "metadata": {},
   "source": [
    "###  Example: 01\n",
    "Examine the relationship between the age and price for used cars sold in the last year by a car dealership company.\n",
    "\n",
    "![image.png](data:image/png;base64,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)"
   ]
  },
  {
   "cell_type": "code",
   "execution_count": 46,
   "id": "31c498fc",
   "metadata": {},
   "outputs": [],
   "source": [
    "def get_slope_intercept(x, y):\n",
    "    \n",
    "    \n",
    "    # number of observations/points\n",
    "    n = np.size(y)\n",
    "    \n",
    "    \n",
    "    # mean of x and y vector\n",
    "    m_x = np.mean(x)\n",
    "    m_y = np.mean(y)\n",
    "    \n",
    "    \n",
    "    # calculating cross-deviation and deviation about x\n",
    "    s_xy = np.sum(x*y) - n * (m_x) * (m_y)\n",
    "    s_xx = np.sum(x*x) - n * (m_x) * (m_x)\n",
    "    \n",
    "    \n",
    "    # calculating regression coefficients\n",
    "    b_1 = s_xy / s_xx\n",
    "    b_0 = (m_y) - b_1 * (m_x)\n",
    "    \n",
    "    return  b_0, b_1\n",
    "\n",
    "def plot_linear_regression(x, y, b):\n",
    "    \n",
    "    plt.figure(figsize = (14, 7))\n",
    "    \n",
    "    # plotting the actual points as scatter plot\n",
    "    plt.scatter(x,y,  color = 'r', marker = 'o', s = 10)\n",
    "    \n",
    "    \n",
    "    # predicted response vector\n",
    "    y_pred = b[0] + b[1] * x\n",
    "    \n",
    "    \n",
    "    # plotting the regression line\n",
    "    plt.plot(x, y_pred, color = 'b')\n",
    "    \n",
    "    # putting labels\n",
    "    plt.xlabel(\"Car_Age\", size = 17)\n",
    "    plt.ylabel(\"Price(US$)\", size = 17)\n",
    "    \n",
    "    # function to show plot\n",
    "    plt.show()\n",
    "    \n",
    "    \n",
    "def main():\n",
    "    \n",
    "    \n",
    "    # observations / data\n",
    "    x = np.array( [ 4,4,5,5,7,7,8,9,10,11,12 ])\n",
    "    y = np.array([ 6300, 5800, 5700, 4500, 4500, 4200, 4100, 3100, 2100, 2500, 2200 ])\n",
    "    \n",
    "    \n",
    "    # estimating slope & intercept\n",
    "    b = get_slope_intercept(x,y)\n",
    "    \n",
    "    print(f\"Estimated coefficents:\\nb[0] = {b[0]}\\nb[1] = {b[1]} \")\n",
    "    \n",
    "    # plotting regression line\n",
    "    plot_linear_regression(x,y,b)\n",
    "     \n"
   ]
  },
  {
   "cell_type": "code",
   "execution_count": 47,
   "id": "a0d8a940",
   "metadata": {},
   "outputs": [
    {
     "name": "stdout",
     "output_type": "stream",
     "text": [
      "Estimated coefficents:\n",
      "b[0] = 7836.258660508083\n",
      "b[1] = -502.4249422632795 \n"
     ]
    },
    {
     "data": {
      "image/png": "[encoded data removed]",
      "text/plain": [
       "<Figure size 1008x504 with 1 Axes>"
      ]
     },
     "metadata": {
      "needs_background": "light"
     },
     "output_type": "display_data"
    }
   ],
   "source": [
    "# Calling main function\n",
    "main()"
   ]
  },
  {
   "cell_type": "markdown",
   "id": "24214502",
   "metadata": {},
   "source": [
    "<h2 style =\"color: black; background-color:yellow; font-family:Comic Sans MS;\" align = \"center\"> Head Brain DataSet </h2>"
   ]
  },
  {
   "cell_type": "code",
   "execution_count": 67,
   "id": "c0d1eb6a",
   "metadata": {},
   "outputs": [],
   "source": [
    "df = pd.read_csv('headbrain.csv')"
   ]
  },
  {
   "cell_type": "code",
   "execution_count": 68,
   "id": "14630c25",
   "metadata": {},
   "outputs": [
    {
     "data": {
      "text/plain": [
       "(237, 4)"
      ]
     },
     "execution_count": 68,
     "metadata": {},
     "output_type": "execute_result"
    }
   ],
   "source": [
    "df.shape"
   ]
  },
  {
   "cell_type": "code",
   "execution_count": 69,
   "id": "65512b7f",
   "metadata": {},
   "outputs": [
    {
     "data": {
      "text/html": [
       "<div>\n",
       "<style scoped>\n",
       "    .dataframe tbody tr th:only-of-type {\n",
       "        vertical-align: middle;\n",
       "    }\n",
       "\n",
       "    .dataframe tbody tr th {\n",
       "        vertical-align: top;\n",
       "    }\n",
       "\n",
       "    .dataframe thead th {\n",
       "        text-align: right;\n",
       "    }\n",
       "</style>\n",
       "<table border=\"1\" class=\"dataframe\">\n",
       "  <thead>\n",
       "    <tr style=\"text-align: right;\">\n",
       "      <th></th>\n",
       "      <th>Gender</th>\n",
       "      <th>Age Range</th>\n",
       "      <th>Head Size(cm^3)</th>\n",
       "      <th>Brain Weight(grams)</th>\n",
       "    </tr>\n",
       "  </thead>\n",
       "  <tbody>\n",
       "    <tr>\n",
       "      <th>0</th>\n",
       "      <td>1</td>\n",
       "      <td>1</td>\n",
       "      <td>4512</td>\n",
       "      <td>1530</td>\n",
       "    </tr>\n",
       "    <tr>\n",
       "      <th>1</th>\n",
       "      <td>1</td>\n",
       "      <td>1</td>\n",
       "      <td>3738</td>\n",
       "      <td>1297</td>\n",
       "    </tr>\n",
       "    <tr>\n",
       "      <th>2</th>\n",
       "      <td>1</td>\n",
       "      <td>1</td>\n",
       "      <td>4261</td>\n",
       "      <td>1335</td>\n",
       "    </tr>\n",
       "    <tr>\n",
       "      <th>3</th>\n",
       "      <td>1</td>\n",
       "      <td>1</td>\n",
       "      <td>3777</td>\n",
       "      <td>1282</td>\n",
       "    </tr>\n",
       "    <tr>\n",
       "      <th>4</th>\n",
       "      <td>1</td>\n",
       "      <td>1</td>\n",
       "      <td>4177</td>\n",
       "      <td>1590</td>\n",
       "    </tr>\n",
       "  </tbody>\n",
       "</table>\n",
       "</div>"
      ],
      "text/plain": [
       "   Gender  Age Range  Head Size(cm^3)  Brain Weight(grams)\n",
       "0       1          1             4512                 1530\n",
       "1       1          1             3738                 1297\n",
       "2       1          1             4261                 1335\n",
       "3       1          1             3777                 1282\n",
       "4       1          1             4177                 1590"
      ]
     },
     "execution_count": 69,
     "metadata": {},
     "output_type": "execute_result"
    }
   ],
   "source": [
    "df.head()"
   ]
  },
  {
   "cell_type": "code",
   "execution_count": 70,
   "id": "72a6968f",
   "metadata": {},
   "outputs": [],
   "source": [
    "# collecting x and y\n",
    "\n",
    "x = df['Head Size(cm^3)']\n",
    "y = df['Brain Weight(grams)'].values"
   ]
  },
  {
   "cell_type": "code",
   "execution_count": 55,
   "id": "79298d3c",
   "metadata": {},
   "outputs": [
    {
     "data": {
      "text/plain": [
       "0      4512\n",
       "1      3738\n",
       "2      4261\n",
       "3      3777\n",
       "4      4177\n",
       "       ... \n",
       "232    3214\n",
       "233    3394\n",
       "234    3233\n",
       "235    3352\n",
       "236    3391\n",
       "Name: Head Size(cm^3), Length: 237, dtype: int64"
      ]
     },
     "execution_count": 55,
     "metadata": {},
     "output_type": "execute_result"
    }
   ],
   "source": [
    "x"
   ]
  },
  {
   "cell_type": "code",
   "execution_count": 56,
   "id": "c8919c3e",
   "metadata": {},
   "outputs": [
    {
     "data": {
      "text/plain": [
       "array([1530, 1297, 1335, 1282, 1590, 1300, 1400, 1255, 1355, 1375, 1340,\n",
       "       1380, 1355, 1522, 1208, 1405, 1358, 1292, 1340, 1400, 1357, 1287,\n",
       "       1275, 1270, 1635, 1505, 1490, 1485, 1310, 1420, 1318, 1432, 1364,\n",
       "       1405, 1432, 1207, 1375, 1350, 1236, 1250, 1350, 1320, 1525, 1570,\n",
       "       1340, 1422, 1506, 1215, 1311, 1300, 1224, 1350, 1335, 1390, 1400,\n",
       "       1225, 1310, 1560, 1330, 1222, 1415, 1175, 1330, 1485, 1470, 1135,\n",
       "       1310, 1154, 1510, 1415, 1468, 1390, 1380, 1432, 1240, 1195, 1225,\n",
       "       1188, 1252, 1315, 1245, 1430, 1279, 1245, 1309, 1412, 1120, 1220,\n",
       "       1280, 1440, 1370, 1192, 1230, 1346, 1290, 1165, 1240, 1132, 1242,\n",
       "       1270, 1218, 1430, 1588, 1320, 1290, 1260, 1425, 1226, 1360, 1620,\n",
       "       1310, 1250, 1295, 1290, 1290, 1275, 1250, 1270, 1362, 1300, 1173,\n",
       "       1256, 1440, 1180, 1306, 1350, 1125, 1165, 1312, 1300, 1270, 1335,\n",
       "       1450, 1310, 1027, 1235, 1260, 1165, 1080, 1127, 1270, 1252, 1200,\n",
       "       1290, 1334, 1380, 1140, 1243, 1340, 1168, 1322, 1249, 1321, 1192,\n",
       "       1373, 1170, 1265, 1235, 1302, 1241, 1078, 1520, 1460, 1075, 1280,\n",
       "       1180, 1250, 1190, 1374, 1306, 1202, 1240, 1316, 1280, 1350, 1180,\n",
       "       1210, 1127, 1324, 1210, 1290, 1100, 1280, 1175, 1160, 1205, 1163,\n",
       "       1022, 1243, 1350, 1237, 1204, 1090, 1355, 1250, 1076, 1120, 1220,\n",
       "       1240, 1220, 1095, 1235, 1105, 1405, 1150, 1305, 1220, 1296, 1175,\n",
       "        955, 1070, 1320, 1060, 1130, 1250, 1225, 1180, 1178, 1142, 1130,\n",
       "       1185, 1012, 1280, 1103, 1408, 1300, 1246, 1380, 1350, 1060, 1350,\n",
       "       1220, 1110, 1215, 1104, 1170, 1120], dtype=int64)"
      ]
     },
     "execution_count": 56,
     "metadata": {},
     "output_type": "execute_result"
    }
   ],
   "source": [
    "y"
   ]
  },
  {
   "cell_type": "code",
   "execution_count": 71,
   "id": "73f4c969",
   "metadata": {},
   "outputs": [],
   "source": [
    "# collecting x and y\n",
    "\n",
    "x = df['Head Size(cm^3)'].values\n",
    "y = df['Brain Weight(grams)'].values"
   ]
  },
  {
   "cell_type": "code",
   "execution_count": 72,
   "id": "d69be5c9",
   "metadata": {},
   "outputs": [
    {
     "name": "stdout",
     "output_type": "stream",
     "text": [
      "slope =  0.26342933948939945 \n",
      "Intercept =  325.57342104944223\n"
     ]
    }
   ],
   "source": [
    "# mean of x and y\n",
    "\n",
    "mean_x = np.mean(x)\n",
    "mean_y = np.mean(y)\n",
    "\n",
    "# total number of values\n",
    "\n",
    "n = len(x)\n",
    "\n",
    "# using the formula to calculate b1 and b0\n",
    "\n",
    "s_xy = 0\n",
    "s_xx = 0\n",
    "\n",
    "for i in range(n):\n",
    "    \n",
    "    s_xy += (x[i] - mean_x) * (y[i] - mean_y)\n",
    "    s_xx += (x[i] - mean_x) **2\n",
    "    \n",
    "    \n",
    "b_1 = s_xy/s_xx\n",
    "b_0 = mean_y - b_1 * mean_x\n",
    "\n",
    "\n",
    "print(\"slope = \",b_1, '\\nIntercept = ', b_0)"
   ]
  },
  {
   "cell_type": "code",
   "execution_count": 75,
   "id": "cb228bd0",
   "metadata": {},
   "outputs": [
    {
     "data": {
      "image/png": "[encoded data removed]",
      "text/plain": [
       "<Figure size 432x288 with 1 Axes>"
      ]
     },
     "metadata": {
      "needs_background": "light"
     },
     "output_type": "display_data"
    }
   ],
   "source": [
    "# plotting values and Regression line \n",
    "\n",
    "max_x = np.max(x) + 100\n",
    "min_x = np.min(x) - 100\n",
    "\n",
    "# calculating line values x and y\n",
    "\n",
    "#x = np.linspace(min_x, max_x, 1000)\n",
    "\n",
    "y = b_0 + b_1 * (x)\n",
    "\n",
    "# plotting line\n",
    "\n",
    "plt.plot(x, y, color = 'g', label = 'Regression line')\n",
    "\n",
    "# plotting scatter points\n",
    "\n",
    "plt.scatter(x, y , color = 'orange', label = 'scatterplot')\n",
    "\n",
    "plt.xlabel('Head size in cm3')\n",
    "plt.ylabel('Brain weight in grams')\n",
    "plt.legend()\n",
    "plt.show()"
   ]
  },
  {
   "cell_type": "markdown",
   "id": "573fbdae",
   "metadata": {},
   "source": [
    "<h4 style =\"color: black; background-color:yellow; font-family:Comic Sans MS;\" align = \"center\">In order to understand how good our model is? there are different methods such as: root mean square method, R square method that can help us.\n",
    "Here we will use R squared method. </h4>"
   ]
  },
  {
   "cell_type": "code",
   "execution_count": 78,
   "id": "7052644c",
   "metadata": {},
   "outputs": [
    {
     "name": "stdout",
     "output_type": "stream",
     "text": [
      "1.0\n"
     ]
    }
   ],
   "source": [
    "n = len(x)\n",
    "sst = 0\n",
    "ssr = 0\n",
    "\n",
    "for i in range(n):\n",
    "    \n",
    "    y_pred = b_0 + b_1 * x[i]\n",
    "    sst += (y[i] - mean_y)**2 \n",
    "    ssr += (y[i] - y_pred)**2\n",
    "    \n",
    "r2 = 1 - (ssr/sst)\n",
    "\n",
    "print(r2)"
   ]
  },
  {
   "cell_type": "code",
   "execution_count": 80,
   "id": "93e3fee7",
   "metadata": {},
   "outputs": [
    {
     "name": "stdout",
     "output_type": "stream",
     "text": [
      "1.0\n"
     ]
    }
   ],
   "source": [
    "# calculating the R square by using the sickit learn library\n",
    "\n",
    "from sklearn.linear_model import LinearRegression\n",
    "from sklearn.metrics import mean_squared_error \n",
    "\n",
    "# cannot use Rank 1 matrix in sickit learn\n",
    "\n",
    "x = x.reshape((n, 1))\n",
    "\n",
    "# creating model\n",
    "\n",
    "reg = LinearRegression()\n",
    "\n",
    "# fitting training data\n",
    "reg.fit(x, y)\n",
    "\n",
    "#  y prediction\n",
    "y_pred = reg.predict(x)\n",
    "\n",
    "# calculating R2 Score\n",
    "r2_score = reg.score(x,y)\n",
    "\n",
    "print(r2_score)"
   ]
  }
 ],
 "metadata": {
  "kernelspec": {
   "display_name": "Python 3",
   "language": "python",
   "name": "python3"
  },
  "language_info": {
   "codemirror_mode": {
    "name": "ipython",
    "version": 3
   },
   "file_extension": ".py",
   "mimetype": "text/x-python",
   "name": "python",
   "nbconvert_exporter": "python",
   "pygments_lexer": "ipython3",
   "version": "3.8.8"
  }
 },
 "nbformat": 4,
 "nbformat_minor": 5
}
